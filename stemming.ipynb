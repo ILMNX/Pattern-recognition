{
  "nbformat": 4,
  "nbformat_minor": 0,
  "metadata": {
    "colab": {
      "provenance": [],
      "authorship_tag": "ABX9TyMS3Sk7t5om0LRfToX5K9Am",
      "include_colab_link": true
    },
    "kernelspec": {
      "name": "python3",
      "display_name": "Python 3"
    },
    "language_info": {
      "name": "python"
    }
  },
  "cells": [
    {
      "cell_type": "markdown",
      "metadata": {
        "id": "view-in-github",
        "colab_type": "text"
      },
      "source": [
        "<a href=\"https://colab.research.google.com/github/ILMNX/pattern-recognition/blob/main/stemming.ipynb\" target=\"_parent\"><img src=\"https://colab.research.google.com/assets/colab-badge.svg\" alt=\"Open In Colab\"/></a>"
      ]
    },
    {
      "cell_type": "code",
      "source": [
        "!pip install nltk\n",
        "!pip install Sastrawi"
      ],
      "metadata": {
        "colab": {
          "base_uri": "https://localhost:8080/"
        },
        "id": "CCMZjilCgkSr",
        "outputId": "e23c061d-7555-4d6b-a99d-6f2879425f57"
      },
      "execution_count": null,
      "outputs": [
        {
          "output_type": "stream",
          "name": "stdout",
          "text": [
            "Requirement already satisfied: nltk in /usr/local/lib/python3.10/dist-packages (3.8.1)\n",
            "Requirement already satisfied: click in /usr/local/lib/python3.10/dist-packages (from nltk) (8.1.7)\n",
            "Requirement already satisfied: joblib in /usr/local/lib/python3.10/dist-packages (from nltk) (1.4.2)\n",
            "Requirement already satisfied: regex>=2021.8.3 in /usr/local/lib/python3.10/dist-packages (from nltk) (2024.9.11)\n",
            "Requirement already satisfied: tqdm in /usr/local/lib/python3.10/dist-packages (from nltk) (4.66.5)\n",
            "Collecting Sastrawi\n",
            "  Downloading Sastrawi-1.0.1-py2.py3-none-any.whl.metadata (909 bytes)\n",
            "Downloading Sastrawi-1.0.1-py2.py3-none-any.whl (209 kB)\n",
            "\u001b[2K   \u001b[90m━━━━━━━━━━━━━━━━━━━━━━━━━━━━━━━━━━━━━━━━\u001b[0m \u001b[32m209.7/209.7 kB\u001b[0m \u001b[31m3.3 MB/s\u001b[0m eta \u001b[36m0:00:00\u001b[0m\n",
            "\u001b[?25hInstalling collected packages: Sastrawi\n",
            "Successfully installed Sastrawi-1.0.1\n"
          ]
        }
      ]
    },
    {
      "cell_type": "code",
      "execution_count": null,
      "metadata": {
        "colab": {
          "base_uri": "https://localhost:8080/"
        },
        "id": "Sv1TV3JDFi-N",
        "outputId": "7e16e08a-f6eb-4a14-b2c5-d43d7e8a6272"
      },
      "outputs": [
        {
          "output_type": "stream",
          "name": "stderr",
          "text": [
            "[nltk_data] Downloading package punkt to /root/nltk_data...\n",
            "[nltk_data]   Unzipping tokenizers/punkt.zip.\n",
            "[nltk_data] Downloading package stopwords to /root/nltk_data...\n",
            "[nltk_data]   Unzipping corpora/stopwords.zip.\n",
            "[nltk_data] Downloading package wordnet to /root/nltk_data...\n"
          ]
        }
      ],
      "source": [
        "import nltk\n",
        "nltk.download('punkt')\n",
        "nltk.download('stopwords')\n",
        "nltk.download('wordnet')\n",
        "\n",
        "from nltk.tokenize import word_tokenize\n",
        "from nltk.corpus import stopwords\n",
        "from Sastrawi.Stemmer.StemmerFactory import StemmerFactory\n",
        "from nltk.stem import WordNetLemmatizer"
      ]
    },
    {
      "cell_type": "markdown",
      "source": [
        "### Teks yang akan di proses\n"
      ],
      "metadata": {
        "id": "masRcj3gaZ5P"
      }
    },
    {
      "cell_type": "code",
      "source": [
        "text = \"\"\"tolong editingnya yang bagus ya. Saya sering kecewa dengan film indonesia. Ditunggu filmnya!!\\n\n",
        "awal bulan ini nonton dua film Indonesia di bioskop: kartini dan critical eleven. penggambaran kartini dan ale juga anya terlalu lemah. :(\n",
        "gue adalah orang yang jarang banget nonton film indonesia..karena tiap nonton, gue selalu kecewa sama pembuatan film yang menurut gue tidak totalitas\n",
        "Bertambah lagi film Indonesia yang bakal jadi favorite. Ya, #CriticalEleven setelah baca buku & nonton. Gak kecewa. Sama2 Bagus @ikanatassa\n",
        "Sekarang lagi ada film yang bagus banget di bioskop. Judulnya Ziarah. Film Indonesia yang patut diapresiasi.\n",
        "Satu satunya film indonesia yang gue tunggu banget buat di tonton. Setelah liat filmnya langsung gagal moveon. Pingin nonton lagi #CriticalEleven\n",
        "film indonesia terbaik tahun lalu yang saya tonton. #ziarah diputar di bioskop 18 mei 2017. catat di hape, tonton di hari pertamanya.\n",
        "Papa mama aku juga ikut nonton , mereka termasuk critical sama Film Indonesia,mereka bilang film ini Bagus sekali :) terimakasih @Hanungbramantyo\n",
        "Sudah nonton Critical Eleven. Menyenangkan kok, masuk kategori film Indonesia yang wajib tonton lah.\n",
        "KARTINI adalah salah satu film Indonesia bertema sejarah terbaik yang pernah dibuat. Digarap dengan serius dan tema masih relevan dengan kondisi sekarang.\"\"\"\n",
        "print(\"Jumlah Kata : \", len(text.split()))"
      ],
      "metadata": {
        "colab": {
          "base_uri": "https://localhost:8080/"
        },
        "id": "MesBU5mNgOXK",
        "outputId": "58a6e6ee-d5ad-4a98-f6da-772aba6276ef"
      },
      "execution_count": null,
      "outputs": [
        {
          "output_type": "stream",
          "name": "stdout",
          "text": [
            "Jumlah Kata :  193\n"
          ]
        }
      ]
    },
    {
      "cell_type": "markdown",
      "source": [
        "###Tokenisasi"
      ],
      "metadata": {
        "id": "Pi4GcAXRafPS"
      }
    },
    {
      "cell_type": "code",
      "source": [
        "tokens = word_tokenize(text)\n",
        "print(\"Tokens:\", tokens)\n",
        "print(len(tokens))"
      ],
      "metadata": {
        "colab": {
          "base_uri": "https://localhost:8080/"
        },
        "id": "NE7DjgkSgTYD",
        "outputId": "a631a245-a612-462f-f75a-74103fcbf549"
      },
      "execution_count": null,
      "outputs": [
        {
          "output_type": "stream",
          "name": "stdout",
          "text": [
            "Tokens: ['tolong', 'editingnya', 'yang', 'bagus', 'ya', '.', 'Saya', 'sering', 'kecewa', 'dengan', 'film', 'indonesia', '.', 'Ditunggu', 'filmnya', '!', '!', 'awal', 'bulan', 'ini', 'nonton', 'dua', 'film', 'Indonesia', 'di', 'bioskop', ':', 'kartini', 'dan', 'critical', 'eleven', '.', 'penggambaran', 'kartini', 'dan', 'ale', 'juga', 'anya', 'terlalu', 'lemah', '.', ':', '(', 'gue', 'adalah', 'orang', 'yang', 'jarang', 'banget', 'nonton', 'film', 'indonesia', '..', 'karena', 'tiap', 'nonton', ',', 'gue', 'selalu', 'kecewa', 'sama', 'pembuatan', 'film', 'yang', 'menurut', 'gue', 'tidak', 'totalitas', 'Bertambah', 'lagi', 'film', 'Indonesia', 'yang', 'bakal', 'jadi', 'favorite', '.', 'Ya', ',', '#', 'CriticalEleven', 'setelah', 'baca', 'buku', '&', 'nonton', '.', 'Gak', 'kecewa', '.', 'Sama2', 'Bagus', '@', 'ikanatassa', 'Sekarang', 'lagi', 'ada', 'film', 'yang', 'bagus', 'banget', 'di', 'bioskop', '.', 'Judulnya', 'Ziarah', '.', 'Film', 'Indonesia', 'yang', 'patut', 'diapresiasi', '.', 'Satu', 'satunya', 'film', 'indonesia', 'yang', 'gue', 'tunggu', 'banget', 'buat', 'di', 'tonton', '.', 'Setelah', 'liat', 'filmnya', 'langsung', 'gagal', 'moveon', '.', 'Pingin', 'nonton', 'lagi', '#', 'CriticalEleven', 'film', 'indonesia', 'terbaik', 'tahun', 'lalu', 'yang', 'saya', 'tonton', '.', '#', 'ziarah', 'diputar', 'di', 'bioskop', '18', 'mei', '2017.', 'catat', 'di', 'hape', ',', 'tonton', 'di', 'hari', 'pertamanya', '.', 'Papa', 'mama', 'aku', 'juga', 'ikut', 'nonton', ',', 'mereka', 'termasuk', 'critical', 'sama', 'Film', 'Indonesia', ',', 'mereka', 'bilang', 'film', 'ini', 'Bagus', 'sekali', ':', ')', 'terimakasih', '@', 'Hanungbramantyo', 'Sudah', 'nonton', 'Critical', 'Eleven', '.', 'Menyenangkan', 'kok', ',', 'masuk', 'kategori', 'film', 'Indonesia', 'yang', 'wajib', 'tonton', 'lah', '.', 'KARTINI', 'adalah', 'salah', 'satu', 'film', 'Indonesia', 'bertema', 'sejarah', 'terbaik', 'yang', 'pernah', 'dibuat', '.', 'Digarap', 'dengan', 'serius', 'dan', 'tema', 'masih', 'relevan', 'dengan', 'kondisi', 'sekarang', '.']\n",
            "229\n"
          ]
        }
      ]
    },
    {
      "cell_type": "markdown",
      "source": [
        "### Menghapus tanda baca dan mengubah ke huruf kecil"
      ],
      "metadata": {
        "id": "LxFY3wRtalUQ"
      }
    },
    {
      "cell_type": "code",
      "source": [
        "tokens = [word.lower() for word in tokens if word.isalnum()]\n",
        "print(\"Tokens setelah penghapusan tanda baca dan pengubahan ke huruf kecil:\", tokens)"
      ],
      "metadata": {
        "colab": {
          "base_uri": "https://localhost:8080/"
        },
        "id": "s6brp7G8gXd7",
        "outputId": "423d3a56-3ac9-46ec-bfb0-4a3576466690"
      },
      "execution_count": null,
      "outputs": [
        {
          "output_type": "stream",
          "name": "stdout",
          "text": [
            "Tokens setelah penghapusan tanda baca dan pengubahan ke huruf kecil: ['tolong', 'editingnya', 'yang', 'bagus', 'ya', 'saya', 'sering', 'kecewa', 'dengan', 'film', 'indonesia', 'ditunggu', 'filmnya', 'awal', 'bulan', 'ini', 'nonton', 'dua', 'film', 'indonesia', 'di', 'bioskop', 'kartini', 'dan', 'critical', 'eleven', 'penggambaran', 'kartini', 'dan', 'ale', 'juga', 'anya', 'terlalu', 'lemah', 'gue', 'adalah', 'orang', 'yang', 'jarang', 'banget', 'nonton', 'film', 'indonesia', 'karena', 'tiap', 'nonton', 'gue', 'selalu', 'kecewa', 'sama', 'pembuatan', 'film', 'yang', 'menurut', 'gue', 'tidak', 'totalitas', 'bertambah', 'lagi', 'film', 'indonesia', 'yang', 'bakal', 'jadi', 'favorite', 'ya', 'criticaleleven', 'setelah', 'baca', 'buku', 'nonton', 'gak', 'kecewa', 'sama2', 'bagus', 'ikanatassa', 'sekarang', 'lagi', 'ada', 'film', 'yang', 'bagus', 'banget', 'di', 'bioskop', 'judulnya', 'ziarah', 'film', 'indonesia', 'yang', 'patut', 'diapresiasi', 'satu', 'satunya', 'film', 'indonesia', 'yang', 'gue', 'tunggu', 'banget', 'buat', 'di', 'tonton', 'setelah', 'liat', 'filmnya', 'langsung', 'gagal', 'moveon', 'pingin', 'nonton', 'lagi', 'criticaleleven', 'film', 'indonesia', 'terbaik', 'tahun', 'lalu', 'yang', 'saya', 'tonton', 'ziarah', 'diputar', 'di', 'bioskop', '18', 'mei', 'catat', 'di', 'hape', 'tonton', 'di', 'hari', 'pertamanya', 'papa', 'mama', 'aku', 'juga', 'ikut', 'nonton', 'mereka', 'termasuk', 'critical', 'sama', 'film', 'indonesia', 'mereka', 'bilang', 'film', 'ini', 'bagus', 'sekali', 'terimakasih', 'hanungbramantyo', 'sudah', 'nonton', 'critical', 'eleven', 'menyenangkan', 'kok', 'masuk', 'kategori', 'film', 'indonesia', 'yang', 'wajib', 'tonton', 'lah', 'kartini', 'adalah', 'salah', 'satu', 'film', 'indonesia', 'bertema', 'sejarah', 'terbaik', 'yang', 'pernah', 'dibuat', 'digarap', 'dengan', 'serius', 'dan', 'tema', 'masih', 'relevan', 'dengan', 'kondisi', 'sekarang']\n"
          ]
        }
      ]
    },
    {
      "cell_type": "markdown",
      "source": [
        "### Menghapus stopwords"
      ],
      "metadata": {
        "id": "2wnghf9PavOD"
      }
    },
    {
      "cell_type": "code",
      "source": [
        "stop_words = set(stopwords.words('indonesian'))\n",
        "filtered_tokens = [word for word in tokens if word not in stop_words]\n",
        "print(\"Tokens setelah penghapusan stopwords:\", filtered_tokens)"
      ],
      "metadata": {
        "colab": {
          "base_uri": "https://localhost:8080/"
        },
        "id": "79kPa1f2gb05",
        "outputId": "6f127bef-a296-45a2-97b8-0495418f4fb3"
      },
      "execution_count": null,
      "outputs": [
        {
          "output_type": "stream",
          "name": "stdout",
          "text": [
            "Tokens setelah penghapusan stopwords: ['tolong', 'editingnya', 'bagus', 'ya', 'kecewa', 'film', 'indonesia', 'ditunggu', 'filmnya', 'nonton', 'film', 'indonesia', 'bioskop', 'kartini', 'critical', 'eleven', 'penggambaran', 'kartini', 'ale', 'anya', 'lemah', 'gue', 'orang', 'jarang', 'banget', 'nonton', 'film', 'indonesia', 'nonton', 'gue', 'kecewa', 'pembuatan', 'film', 'gue', 'totalitas', 'bertambah', 'film', 'indonesia', 'favorite', 'ya', 'criticaleleven', 'baca', 'buku', 'nonton', 'gak', 'kecewa', 'sama2', 'bagus', 'ikanatassa', 'film', 'bagus', 'banget', 'bioskop', 'judulnya', 'ziarah', 'film', 'indonesia', 'patut', 'diapresiasi', 'satunya', 'film', 'indonesia', 'gue', 'tunggu', 'banget', 'tonton', 'liat', 'filmnya', 'langsung', 'gagal', 'moveon', 'pingin', 'nonton', 'criticaleleven', 'film', 'indonesia', 'terbaik', 'tonton', 'ziarah', 'diputar', 'bioskop', '18', 'mei', 'catat', 'hape', 'tonton', 'pertamanya', 'papa', 'mama', 'nonton', 'critical', 'film', 'indonesia', 'bilang', 'film', 'bagus', 'terimakasih', 'hanungbramantyo', 'nonton', 'critical', 'eleven', 'menyenangkan', 'masuk', 'kategori', 'film', 'indonesia', 'wajib', 'tonton', 'kartini', 'salah', 'film', 'indonesia', 'bertema', 'sejarah', 'terbaik', 'digarap', 'serius', 'tema', 'relevan', 'kondisi']\n"
          ]
        }
      ]
    },
    {
      "cell_type": "markdown",
      "source": [
        "###Stemming"
      ],
      "metadata": {
        "id": "e9fZfVBba5Xx"
      }
    },
    {
      "cell_type": "code",
      "source": [
        "factory = StemmerFactory()\n",
        "stemmer = factory.create_stemmer()\n",
        "stemmed_words = [stemmer.stem(word) for word in filtered_tokens]\n",
        "print(f\"Stemmed Words: {stemmed_words}\")"
      ],
      "metadata": {
        "colab": {
          "base_uri": "https://localhost:8080/"
        },
        "id": "wCfGuxH9gaTu",
        "outputId": "0a1f05bb-4d30-4e3c-f7d6-3a7087eb27d1"
      },
      "execution_count": null,
      "outputs": [
        {
          "output_type": "stream",
          "name": "stdout",
          "text": [
            "Stemmed Words: ['tolong', 'editingnya', 'bagus', 'ya', 'kecewa', 'film', 'indonesia', 'tunggu', 'film', 'nonton', 'film', 'indonesia', 'bioskop', 'kartini', 'critical', 'eleven', 'gambar', 'kartini', 'ale', 'anya', 'lemah', 'gue', 'orang', 'jarang', 'banget', 'nonton', 'film', 'indonesia', 'nonton', 'gue', 'kecewa', 'buat', 'film', 'gue', 'totalitas', 'tambah', 'film', 'indonesia', 'favorite', 'ya', 'criticaleleven', 'baca', 'buku', 'nonton', 'gak', 'kecewa', 'sama2', 'bagus', 'ikanatassa', 'film', 'bagus', 'banget', 'bioskop', 'judul', 'ziarah', 'film', 'indonesia', 'patut', 'apresiasi', 'satu', 'film', 'indonesia', 'gue', 'tunggu', 'banget', 'tonton', 'liat', 'film', 'langsung', 'gagal', 'moveon', 'pingin', 'nonton', 'criticaleleven', 'film', 'indonesia', 'baik', 'tonton', 'ziarah', 'putar', 'bioskop', '18', 'mei', 'catat', 'hape', 'tonton', 'pertama', 'papa', 'mama', 'nonton', 'critical', 'film', 'indonesia', 'bilang', 'film', 'bagus', 'terimakasih', 'hanungbramantyo', 'nonton', 'critical', 'eleven', 'senang', 'masuk', 'kategori', 'film', 'indonesia', 'wajib', 'tonton', 'kartini', 'salah', 'film', 'indonesia', 'tema', 'sejarah', 'baik', 'garap', 'serius', 'tema', 'relevan', 'kondisi']\n"
          ]
        }
      ]
    },
    {
      "cell_type": "markdown",
      "source": [
        "### Lemmatization"
      ],
      "metadata": {
        "id": "ixfqNJYKbAUV"
      }
    },
    {
      "cell_type": "code",
      "source": [
        "lemmatizer = WordNetLemmatizer()\n",
        "lemmatized_words = [lemmatizer.lemmatize(word) for word in filtered_tokens]\n",
        "print(f\"Lemmatized Words: {lemmatized_words}\")"
      ],
      "metadata": {
        "colab": {
          "base_uri": "https://localhost:8080/"
        },
        "id": "DWUX1mgLa9ny",
        "outputId": "d8797c00-6a4a-40c7-bec9-2aa8b10d8dd8"
      },
      "execution_count": null,
      "outputs": [
        {
          "output_type": "stream",
          "name": "stdout",
          "text": [
            "Lemmatized Words: ['tolong', 'editingnya', 'bagus', 'ya', 'kecewa', 'film', 'indonesia', 'ditunggu', 'filmnya', 'nonton', 'film', 'indonesia', 'bioskop', 'kartini', 'critical', 'eleven', 'penggambaran', 'kartini', 'ale', 'anya', 'lemah', 'gue', 'orang', 'jarang', 'banget', 'nonton', 'film', 'indonesia', 'nonton', 'gue', 'kecewa', 'pembuatan', 'film', 'gue', 'totalitas', 'bertambah', 'film', 'indonesia', 'favorite', 'ya', 'criticaleleven', 'baca', 'buku', 'nonton', 'gak', 'kecewa', 'sama2', 'bagus', 'ikanatassa', 'film', 'bagus', 'banget', 'bioskop', 'judulnya', 'ziarah', 'film', 'indonesia', 'patut', 'diapresiasi', 'satunya', 'film', 'indonesia', 'gue', 'tunggu', 'banget', 'tonton', 'liat', 'filmnya', 'langsung', 'gagal', 'moveon', 'pingin', 'nonton', 'criticaleleven', 'film', 'indonesia', 'terbaik', 'tonton', 'ziarah', 'diputar', 'bioskop', '18', 'mei', 'catat', 'hape', 'tonton', 'pertamanya', 'papa', 'mama', 'nonton', 'critical', 'film', 'indonesia', 'bilang', 'film', 'bagus', 'terimakasih', 'hanungbramantyo', 'nonton', 'critical', 'eleven', 'menyenangkan', 'masuk', 'kategori', 'film', 'indonesia', 'wajib', 'tonton', 'kartini', 'salah', 'film', 'indonesia', 'bertema', 'sejarah', 'terbaik', 'digarap', 'serius', 'tema', 'relevan', 'kondisi']\n"
          ]
        }
      ]
    }
  ]
}